{
 "cells": [
  {
   "cell_type": "code",
   "execution_count": 2,
   "id": "ca1fbdfc-9c1a-4e49-95f9-cb167028ecff",
   "metadata": {},
   "outputs": [
    {
     "name": "stdout",
     "output_type": "stream",
     "text": [
      "Requirement already satisfied: beautifulsoup4 in c:\\users\\navya\\anaconda3\\lib\\site-packages (4.12.2)\n",
      "Requirement already satisfied: soupsieve>1.2 in c:\\users\\navya\\anaconda3\\lib\\site-packages (from beautifulsoup4) (2.5)\n",
      "Note: you may need to restart the kernel to use updated packages.\n"
     ]
    }
   ],
   "source": [
    "pip install beautifulsoup4"
   ]
  },
  {
   "cell_type": "code",
   "execution_count": 14,
   "id": "90120924-dc7d-4abe-b8f2-b0b89fd6fa73",
   "metadata": {},
   "outputs": [],
   "source": [
    "import requests\n",
    "from bs4 import BeautifulSoup\n",
    "import pandas as pd"
   ]
  },
  {
   "cell_type": "code",
   "execution_count": 24,
   "id": "68cca5af-ae08-4dab-8acc-d055acb6f253",
   "metadata": {},
   "outputs": [
    {
     "name": "stdout",
     "output_type": "stream",
     "text": [
      "Data has been successfully scraped and saved to C:\\Users\\navya\\flipkart_reviews.csv\n"
     ]
    }
   ],
   "source": [
    "base_url = 'https://www.flipkart.com/flipkart-smartbuy-1000-w-dry-iron/product-reviews/itmf3kcr58zcbh6p?pid=IRNF28ETGB7HHRWE&lid=LSTIRNF28ETGB7HHRWEYGG9WM&marketplace=FLIPKART99&page='\n",
    "\n",
    "headers = {\n",
    "    'User-Agent': 'Mozilla/5.0 (Windows NT 10.0; Win64; x64) AppleWebKit/537.36 (KHTML, like Gecko) Chrome/91.0.4472.124 Safari/537.36',\n",
    "    'Accept-Language': 'en-US,en;q=0.9',\n",
    "    'Accept-Encoding': 'gzip, deflate, br',\n",
    "    'Connection': 'keep-alive',\n",
    "    'Accept': 'text/html,application/xhtml+xml,application/xml;q=0.9,image/avif,image/webp,image/apng,*/*;q=0.8,application/signed-exchange;v=b3;q=0.9',\n",
    "    'Referer': 'https://www.flipkart.com/',\n",
    "}\n",
    "\n",
    "product_name = []\n",
    "user_names = []\n",
    "ratings = []\n",
    "review_headings = []\n",
    "reviews = []\n",
    "\n",
    "for page in range(1, 3):  # Adjust the range for the number of pages you want to scrape\n",
    "    response = requests.get(base_url + str(page), headers=headers)\n",
    "    soup = BeautifulSoup(response.content, 'html.parser')\n",
    "    \n",
    "    # Extracting the product name\n",
    "    product_name_tag = soup.find('a', {'class': 'wjcEIp AbG6iz'})\n",
    "    if product_name_tag:\n",
    "        product_name = product_name_tag.text.strip()\n",
    "    \n",
    "    # Extracting reviews\n",
    "    review_blocks = soup.find_all('div', {'class': 'col EPCmJX Ma1fCG'})\n",
    "    for block in review_blocks:\n",
    "        # User name\n",
    "        user_name_tag = block.find('p', {'class': '_2NsDsF AwS1CA'})\n",
    "        user_name = user_name_tag.text.strip() if user_name_tag else 'Anonymous'\n",
    "        user_names.append(user_name)\n",
    "        \n",
    "        # Rating\n",
    "        rating_tag = block.find('div', {'class': 'XQDdHH Ga3i8K'})\n",
    "        rating = rating_tag.text.strip() if rating_tag else 'N/A'\n",
    "        ratings.append(rating)\n",
    "\n",
    "        #Review heading\n",
    "        review_heading_tag = block.find('p', {'class': 'z9E0IG'})\n",
    "        review_heading = review_heading_tag.text.strip() if review_heading_tag else 'No heading'\n",
    "        review_headings.append(review_heading)\n",
    "        \n",
    "        \n",
    "        # Review\n",
    "        review_tag = block.find('div', {'class': 'ZmyHeo'})\n",
    "        review = review_tag.text.strip() if review_tag else 'No review text'\n",
    "        reviews.append(review)\n",
    "\n",
    "# Creating a DataFrame\n",
    "data = {\n",
    "    'Product Name': [product_name] * len(user_names),\n",
    "    'User Name': user_names,\n",
    "    'Rating': ratings,\n",
    "    'Review Heading': review_headings,\n",
    "    'Review': reviews\n",
    "}\n",
    "\n",
    "df = pd.DataFrame(data)\n",
    "\n",
    "# Saving to Excel\n",
    "df.to_csv('C:\\\\Users\\\\navya\\\\flipkart_reviews.csv', index=False, encoding='utf-8')\n",
    "\n",
    "print('Data has been successfully scraped and saved to C:\\\\Users\\\\navya\\\\flipkart_reviews.csv')\n"
   ]
  },
  {
   "cell_type": "code",
   "execution_count": null,
   "id": "dabe9a7b-735b-4c39-bb65-a69b6fb32746",
   "metadata": {},
   "outputs": [],
   "source": []
  }
 ],
 "metadata": {
  "kernelspec": {
   "display_name": "Python 3 (ipykernel)",
   "language": "python",
   "name": "python3"
  },
  "language_info": {
   "codemirror_mode": {
    "name": "ipython",
    "version": 3
   },
   "file_extension": ".py",
   "mimetype": "text/x-python",
   "name": "python",
   "nbconvert_exporter": "python",
   "pygments_lexer": "ipython3",
   "version": "3.11.7"
  }
 },
 "nbformat": 4,
 "nbformat_minor": 5
}
